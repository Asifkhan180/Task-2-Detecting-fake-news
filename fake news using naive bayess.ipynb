{
 "cells": [
  {
   "cell_type": "code",
   "execution_count": null,
   "id": "8c6b5015-2b63-4cde-8d06-34974722e4ec",
   "metadata": {},
   "outputs": [],
   "source": []
  },
  {
   "cell_type": "code",
   "execution_count": 8,
   "id": "83c48ff2-68e7-4642-b2fc-f12b2564e220",
   "metadata": {},
   "outputs": [
    {
     "name": "stdout",
     "output_type": "stream",
     "text": [
      "Accuracy: 84.14%\n",
      "Classification Report:\n",
      "\n",
      "              precision    recall  f1-score   support\n",
      "\n",
      "           0       0.98      0.70      0.81       633\n",
      "           1       0.77      0.98      0.86       634\n",
      "\n",
      "    accuracy                           0.84      1267\n",
      "   macro avg       0.87      0.84      0.84      1267\n",
      "weighted avg       0.87      0.84      0.84      1267\n",
      "\n",
      "\n",
      "Enter a news article to check if it's REAL or FAKE:\n"
     ]
    },
    {
     "name": "stdin",
     "output_type": "stream",
     "text": [
      "News:    virat kohli is new prime minister\n"
     ]
    },
    {
     "name": "stdout",
     "output_type": "stream",
     "text": [
      "\n",
      "The news article is predicted to be: REAL\n"
     ]
    }
   ],
   "source": [
    "import pandas as pd\n",
    "from sklearn.model_selection import train_test_split\n",
    "from sklearn.feature_extraction.text import TfidfVectorizer\n",
    "from sklearn.naive_bayes import MultinomialNB\n",
    "from sklearn.metrics import classification_report, accuracy_score\n",
    "\n",
    "# Step 1: Load the data  # Replace with your file path\n",
    "news_data = pd.read_csv(\"C:\\\\Users\\\\gudis\\\\Downloads\\\\fake_or_real_news.csv\")\n",
    "\n",
    "# Step 2: Data Preprocessing\n",
    "# Keep only the necessary columns\n",
    "news_data = news_data[['text', 'label']]\n",
    "\n",
    "# Encode the labels (\"REAL\" -> 1, \"FAKE\" -> 0)\n",
    "news_data['label'] = news_data['label'].map({'REAL': 1, 'FAKE': 0})\n",
    "\n",
    "# Step 3: Split the data into training and testing sets\n",
    "X = news_data['text']  # Features (news text)\n",
    "y = news_data['label']  # Target variable (label)\n",
    "X_train, X_test, y_train, y_test = train_test_split(X, y, test_size=0.2, random_state=42, stratify=y)\n",
    "\n",
    "# Step 4: Convert text to numerical data using TF-IDF\n",
    "tfidf_vectorizer = TfidfVectorizer(stop_words='english', max_df=0.7)\n",
    "X_train_tfidf = tfidf_vectorizer.fit_transform(X_train)\n",
    "X_test_tfidf = tfidf_vectorizer.transform(X_test)\n",
    "\n",
    "# Step 5: Build and train the Naive Bayes model\n",
    "nb_model = MultinomialNB()\n",
    "nb_model.fit(X_train_tfidf, y_train)\n",
    "\n",
    "# Step 6: Make predictions and evaluate the model\n",
    "y_pred = nb_model.predict(X_test_tfidf)\n",
    "\n",
    "# Calculate and print accuracy and classification report\n",
    "accuracy = accuracy_score(y_test, y_pred)\n",
    "classification_rep = classification_report(y_test, y_pred)\n",
    "\n",
    "print(f\"Accuracy: {accuracy * 100:.2f}%\")\n",
    "print(\"Classification Report:\\n\")\n",
    "print(classification_rep)\n",
    "\n",
    "# Step 7: Add an input feature to predict whether news is REAL or FAKE\n",
    "def predict_news():\n",
    "    print(\"\\nEnter a news article to check if it's REAL or FAKE:\")\n",
    "    user_input = input(\"News: \")\n",
    "    if user_input.strip() == \"\":\n",
    "        print(\"Please provide a valid input.\")\n",
    "        return\n",
    "\n",
    "    # Transform the input using the trained TF-IDF vectorizer\n",
    "    user_input_tfidf = tfidf_vectorizer.transform([user_input])\n",
    "    \n",
    "    # Make a prediction\n",
    "    prediction = nb_model.predict(user_input_tfidf)[0]\n",
    "    \n",
    "    # Output the result\n",
    "    result = \"REAL\" if prediction == 1 else \"FAKE\"\n",
    "    print(f\"\\nThe news article is predicted to be: {result}\")\n",
    "\n",
    "# Call the function to allow user input\n",
    "predict_news()\n"
   ]
  },
  {
   "cell_type": "code",
   "execution_count": null,
   "id": "639f8695-48f2-4a8d-8136-6ccad88b7bc2",
   "metadata": {},
   "outputs": [],
   "source": []
  }
 ],
 "metadata": {
  "kernelspec": {
   "display_name": "Python 3 (ipykernel)",
   "language": "python",
   "name": "python3"
  },
  "language_info": {
   "codemirror_mode": {
    "name": "ipython",
    "version": 3
   },
   "file_extension": ".py",
   "mimetype": "text/x-python",
   "name": "python",
   "nbconvert_exporter": "python",
   "pygments_lexer": "ipython3",
   "version": "3.11.7"
  }
 },
 "nbformat": 4,
 "nbformat_minor": 5
}
