{
 "cells": [
  {
   "cell_type": "markdown",
   "metadata": {
    "papermill": {
     "duration": 0.013948,
     "end_time": "2021-02-07T10:29:20.321299",
     "exception": false,
     "start_time": "2021-02-07T10:29:20.307351",
     "status": "completed"
    },
    "tags": []
   },
   "source": [
    "# import the necessary dependencies"
   ]
  },
  {
   "cell_type": "code",
   "execution_count": 1,
   "metadata": {
    "execution": {
     "iopub.execute_input": "2021-02-07T10:29:20.357305Z",
     "iopub.status.busy": "2021-02-07T10:29:20.351977Z",
     "iopub.status.idle": "2021-02-07T10:29:21.638714Z",
     "shell.execute_reply": "2021-02-07T10:29:21.637388Z"
    },
    "papermill": {
     "duration": 1.303984,
     "end_time": "2021-02-07T10:29:21.638916",
     "exception": false,
     "start_time": "2021-02-07T10:29:20.334932",
     "status": "completed"
    },
    "tags": []
   },
   "outputs": [],
   "source": [
    "import numpy as np\n",
    "import pandas as pd\n",
    "import matplotlib.pyplot as plt\n",
    "import matplotlib\n",
    "import seaborn as sns\n",
    "import itertools\n",
    "from sklearn.model_selection import train_test_split\n",
    "from sklearn.feature_extraction.text import TfidfVectorizer\n",
    "from sklearn.linear_model import PassiveAggressiveClassifier\n",
    "from sklearn.metrics import accuracy_score, confusion_matrix"
   ]
  },
  {
   "cell_type": "code",
   "execution_count": 15,
   "metadata": {
    "execution": {
     "iopub.execute_input": "2021-02-07T10:29:21.679239Z",
     "iopub.status.busy": "2021-02-07T10:29:21.678538Z",
     "iopub.status.idle": "2021-02-07T10:29:21.683448Z",
     "shell.execute_reply": "2021-02-07T10:29:21.682859Z"
    },
    "papermill": {
     "duration": 0.030412,
     "end_time": "2021-02-07T10:29:21.683601",
     "exception": false,
     "start_time": "2021-02-07T10:29:21.653189",
     "status": "completed"
    },
    "tags": []
   },
   "outputs": [],
   "source": [
    " \n",
    "plt.style.use('ggplot')\n",
    "sns.color_palette(\"tab10\")\n",
    "sns.set(context='notebook', style='darkgrid', font='sans-serif', font_scale=1, rc=None)\n",
    "matplotlib.rcParams['figure.figsize'] =[20,8]\n",
    "matplotlib.rcParams.update({'font.size': 15})\n",
    "matplotlib.rcParams['font.family'] = 'sans-serif'"
   ]
  },
  {
   "cell_type": "markdown",
   "metadata": {
    "papermill": {
     "duration": 0.013726,
     "end_time": "2021-02-07T10:29:21.711697",
     "exception": false,
     "start_time": "2021-02-07T10:29:21.697971",
     "status": "completed"
    },
    "tags": []
   },
   "source": [
    "# 2)Read the csv file of news articles and make it as a Dataframe"
   ]
  },
  {
   "cell_type": "code",
   "execution_count": 3,
   "metadata": {
    "execution": {
     "iopub.execute_input": "2021-02-07T10:29:21.746482Z",
     "iopub.status.busy": "2021-02-07T10:29:21.745810Z",
     "iopub.status.idle": "2021-02-07T10:29:22.813678Z",
     "shell.execute_reply": "2021-02-07T10:29:22.812982Z"
    },
    "papermill": {
     "duration": 1.088078,
     "end_time": "2021-02-07T10:29:22.813823",
     "exception": false,
     "start_time": "2021-02-07T10:29:21.725745",
     "status": "completed"
    },
    "tags": []
   },
   "outputs": [
    {
     "name": "stdout",
     "output_type": "stream",
     "text": [
      "(6335, 4)\n"
     ]
    },
    {
     "data": {
      "text/html": [
       "<div>\n",
       "<style scoped>\n",
       "    .dataframe tbody tr th:only-of-type {\n",
       "        vertical-align: middle;\n",
       "    }\n",
       "\n",
       "    .dataframe tbody tr th {\n",
       "        vertical-align: top;\n",
       "    }\n",
       "\n",
       "    .dataframe thead th {\n",
       "        text-align: right;\n",
       "    }\n",
       "</style>\n",
       "<table border=\"1\" class=\"dataframe\">\n",
       "  <thead>\n",
       "    <tr style=\"text-align: right;\">\n",
       "      <th></th>\n",
       "      <th>Unnamed: 0</th>\n",
       "      <th>title</th>\n",
       "      <th>text</th>\n",
       "      <th>label</th>\n",
       "    </tr>\n",
       "  </thead>\n",
       "  <tbody>\n",
       "    <tr>\n",
       "      <th>0</th>\n",
       "      <td>8476</td>\n",
       "      <td>You Can Smell Hillary’s Fear</td>\n",
       "      <td>Daniel Greenfield, a Shillman Journalism Fello...</td>\n",
       "      <td>FAKE</td>\n",
       "    </tr>\n",
       "    <tr>\n",
       "      <th>1</th>\n",
       "      <td>10294</td>\n",
       "      <td>Watch The Exact Moment Paul Ryan Committed Pol...</td>\n",
       "      <td>Google Pinterest Digg Linkedin Reddit Stumbleu...</td>\n",
       "      <td>FAKE</td>\n",
       "    </tr>\n",
       "    <tr>\n",
       "      <th>2</th>\n",
       "      <td>3608</td>\n",
       "      <td>Kerry to go to Paris in gesture of sympathy</td>\n",
       "      <td>U.S. Secretary of State John F. Kerry said Mon...</td>\n",
       "      <td>REAL</td>\n",
       "    </tr>\n",
       "    <tr>\n",
       "      <th>3</th>\n",
       "      <td>10142</td>\n",
       "      <td>Bernie supporters on Twitter erupt in anger ag...</td>\n",
       "      <td>— Kaydee King (@KaydeeKing) November 9, 2016 T...</td>\n",
       "      <td>FAKE</td>\n",
       "    </tr>\n",
       "    <tr>\n",
       "      <th>4</th>\n",
       "      <td>875</td>\n",
       "      <td>The Battle of New York: Why This Primary Matters</td>\n",
       "      <td>It's primary day in New York and front-runners...</td>\n",
       "      <td>REAL</td>\n",
       "    </tr>\n",
       "  </tbody>\n",
       "</table>\n",
       "</div>"
      ],
      "text/plain": [
       "   Unnamed: 0                                              title  \\\n",
       "0        8476                       You Can Smell Hillary’s Fear   \n",
       "1       10294  Watch The Exact Moment Paul Ryan Committed Pol...   \n",
       "2        3608        Kerry to go to Paris in gesture of sympathy   \n",
       "3       10142  Bernie supporters on Twitter erupt in anger ag...   \n",
       "4         875   The Battle of New York: Why This Primary Matters   \n",
       "\n",
       "                                                text label  \n",
       "0  Daniel Greenfield, a Shillman Journalism Fello...  FAKE  \n",
       "1  Google Pinterest Digg Linkedin Reddit Stumbleu...  FAKE  \n",
       "2  U.S. Secretary of State John F. Kerry said Mon...  REAL  \n",
       "3  — Kaydee King (@KaydeeKing) November 9, 2016 T...  FAKE  \n",
       "4  It's primary day in New York and front-runners...  REAL  "
      ]
     },
     "execution_count": 3,
     "metadata": {},
     "output_type": "execute_result"
    }
   ],
   "source": [
    "#Read the data\n",
    "df=pd.read_csv('fake_or_real_news.csv')\n",
    "\n",
    "#Get shape and head\n",
    "print(df.shape)\n",
    "df.head()"
   ]
  },
  {
   "cell_type": "markdown",
   "metadata": {
    "papermill": {
     "duration": 0.016254,
     "end_time": "2021-02-07T10:29:22.849586",
     "exception": false,
     "start_time": "2021-02-07T10:29:22.833332",
     "status": "completed"
    },
    "tags": []
   },
   "source": [
    "## 3) get the labels from the DataFrame."
   ]
  },
  {
   "cell_type": "code",
   "execution_count": 13,
   "metadata": {
    "execution": {
     "iopub.execute_input": "2021-02-07T10:29:22.888031Z",
     "iopub.status.busy": "2021-02-07T10:29:22.887281Z",
     "iopub.status.idle": "2021-02-07T10:29:22.895525Z",
     "shell.execute_reply": "2021-02-07T10:29:22.893751Z"
    },
    "papermill": {
     "duration": 0.0312,
     "end_time": "2021-02-07T10:29:22.895702",
     "exception": false,
     "start_time": "2021-02-07T10:29:22.864502",
     "status": "completed"
    },
    "tags": []
   },
   "outputs": [
    {
     "data": {
      "text/plain": [
       "0    FAKE\n",
       "1    FAKE\n",
       "2    REAL\n",
       "3    FAKE\n",
       "4    REAL\n",
       "Name: label, dtype: object"
      ]
     },
     "execution_count": 13,
     "metadata": {},
     "output_type": "execute_result"
    }
   ],
   "source": [
    "#DataFlair - Get the labels\n",
    "labels=df.label\n",
    "labels.head()"
   ]
  },
  {
   "cell_type": "code",
   "execution_count": 5,
   "metadata": {
    "execution": {
     "iopub.execute_input": "2021-02-07T10:29:22.939146Z",
     "iopub.status.busy": "2021-02-07T10:29:22.938346Z",
     "iopub.status.idle": "2021-02-07T10:29:22.944212Z",
     "shell.execute_reply": "2021-02-07T10:29:22.943653Z"
    },
    "papermill": {
     "duration": 0.032538,
     "end_time": "2021-02-07T10:29:22.944474",
     "exception": false,
     "start_time": "2021-02-07T10:29:22.911936",
     "status": "completed"
    },
    "tags": []
   },
   "outputs": [
    {
     "data": {
      "text/plain": [
       "REAL    3171\n",
       "FAKE    3164\n",
       "Name: label, dtype: int64"
      ]
     },
     "execution_count": 5,
     "metadata": {},
     "output_type": "execute_result"
    }
   ],
   "source": [
    "target=df.label.value_counts()\n",
    "target"
   ]
  },
  {
   "cell_type": "code",
   "execution_count": 6,
   "metadata": {
    "execution": {
     "iopub.execute_input": "2021-02-07T10:29:22.983711Z",
     "iopub.status.busy": "2021-02-07T10:29:22.983026Z",
     "iopub.status.idle": "2021-02-07T10:29:23.201768Z",
     "shell.execute_reply": "2021-02-07T10:29:23.200975Z"
    },
    "papermill": {
     "duration": 0.240978,
     "end_time": "2021-02-07T10:29:23.201908",
     "exception": false,
     "start_time": "2021-02-07T10:29:22.960930",
     "status": "completed"
    },
    "tags": []
   },
   "outputs": [
    {
     "name": "stderr",
     "output_type": "stream",
     "text": [
      "C:\\Users\\DELL\\anaconda3\\lib\\site-packages\\seaborn\\_decorators.py:36: FutureWarning: Pass the following variable as a keyword arg: x. From version 0.12, the only valid positional argument will be `data`, and passing other arguments without an explicit keyword will result in an error or misinterpretation.\n",
      "  warnings.warn(\n"
     ]
    },
    {
     "data": {
      "image/png": "[encoded data removed]",
      "text/plain": [
       "<Figure size 2000x800 with 1 Axes>"
      ]
     },
     "metadata": {},
     "output_type": "display_data"
    }
   ],
   "source": [
    "sns.countplot(df.label)\n",
    "plt.title('the number of news fake/real');"
   ]
  },
  {
   "cell_type": "markdown",
   "metadata": {
    "papermill": {
     "duration": 0.017611,
     "end_time": "2021-02-07T10:29:23.237430",
     "exception": false,
     "start_time": "2021-02-07T10:29:23.219819",
     "status": "completed"
    },
    "tags": []
   },
   "source": [
    "## 4) Split the dataset into training and testing sets."
   ]
  },
  {
   "cell_type": "code",
   "execution_count": 7,
   "metadata": {
    "execution": {
     "iopub.execute_input": "2021-02-07T10:29:23.284354Z",
     "iopub.status.busy": "2021-02-07T10:29:23.283426Z",
     "iopub.status.idle": "2021-02-07T10:29:23.288957Z",
     "shell.execute_reply": "2021-02-07T10:29:23.288160Z"
    },
    "papermill": {
     "duration": 0.033743,
     "end_time": "2021-02-07T10:29:23.289166",
     "exception": false,
     "start_time": "2021-02-07T10:29:23.255423",
     "status": "completed"
    },
    "tags": []
   },
   "outputs": [],
   "source": [
    "#DataFlair - Split the dataset\n",
    "x_train,x_test,y_train,y_test=train_test_split(df['text'], labels, test_size=0.2, random_state=7)"
   ]
  },
  {
   "cell_type": "markdown",
   "metadata": {
    "papermill": {
     "duration": 0.026792,
     "end_time": "2021-02-07T10:29:23.342411",
     "exception": false,
     "start_time": "2021-02-07T10:29:23.315619",
     "status": "completed"
    },
    "tags": []
   },
   "source": [
    "## 5) initialize a TfidfVectorizer"
   ]
  },
  {
   "cell_type": "code",
   "execution_count": 8,
   "metadata": {
    "execution": {
     "iopub.execute_input": "2021-02-07T10:29:23.475689Z",
     "iopub.status.busy": "2021-02-07T10:29:23.464560Z",
     "iopub.status.idle": "2021-02-07T10:29:27.849576Z",
     "shell.execute_reply": "2021-02-07T10:29:27.848075Z"
    },
    "papermill": {
     "duration": 4.427549,
     "end_time": "2021-02-07T10:29:27.849794",
     "exception": false,
     "start_time": "2021-02-07T10:29:23.422245",
     "status": "completed"
    },
    "tags": []
   },
   "outputs": [],
   "source": [
    "#DataFlair - Initialize a TfidfVectorizer\n",
    "tfidf_vectorizer=TfidfVectorizer(stop_words='english', max_df=0.7)\n",
    "\n",
    "#DataFlair - Fit and transform train set, transform test set\n",
    "tfidf_train=tfidf_vectorizer.fit_transform(x_train) \n",
    "tfidf_test=tfidf_vectorizer.transform(x_test)"
   ]
  },
  {
   "cell_type": "markdown",
   "metadata": {
    "papermill": {
     "duration": 0.026232,
     "end_time": "2021-02-07T10:29:27.902919",
     "exception": false,
     "start_time": "2021-02-07T10:29:27.876687",
     "status": "completed"
    },
    "tags": []
   },
   "source": [
    "## 6) initialize a PassiveAggressiveClassifier"
   ]
  },
  {
   "cell_type": "code",
   "execution_count": 9,
   "metadata": {
    "execution": {
     "iopub.execute_input": "2021-02-07T10:29:28.016884Z",
     "iopub.status.busy": "2021-02-07T10:29:28.015811Z",
     "iopub.status.idle": "2021-02-07T10:29:28.121869Z",
     "shell.execute_reply": "2021-02-07T10:29:28.122710Z"
    },
    "papermill": {
     "duration": 0.13926,
     "end_time": "2021-02-07T10:29:28.122941",
     "exception": false,
     "start_time": "2021-02-07T10:29:27.983681",
     "status": "completed"
    },
    "tags": []
   },
   "outputs": [
    {
     "name": "stdout",
     "output_type": "stream",
     "text": [
      "Accuracy: 92.9%\n"
     ]
    }
   ],
   "source": [
    "#DataFlair - Initialize a PassiveAggressiveClassifier\n",
    "pac=PassiveAggressiveClassifier(max_iter=50)\n",
    "pac.fit(tfidf_train,y_train)\n",
    "\n",
    "#DataFlair - Predict on the test set and calculate accuracy\n",
    "y_pred=pac.predict(tfidf_test)\n",
    "score=accuracy_score(y_test,y_pred)\n",
    "print(f'Accuracy: {round(score*100,2)}%')"
   ]
  },
  {
   "cell_type": "markdown",
   "metadata": {
    "papermill": {
     "duration": 0.027327,
     "end_time": "2021-02-07T10:29:28.237906",
     "exception": false,
     "start_time": "2021-02-07T10:29:28.210579",
     "status": "completed"
    },
    "tags": []
   },
   "source": [
    "## 7) confusion matrix"
   ]
  },
  {
   "cell_type": "code",
   "execution_count": 10,
   "metadata": {
    "execution": {
     "iopub.execute_input": "2021-02-07T10:29:28.299924Z",
     "iopub.status.busy": "2021-02-07T10:29:28.299056Z",
     "iopub.status.idle": "2021-02-07T10:29:28.308373Z",
     "shell.execute_reply": "2021-02-07T10:29:28.307797Z"
    },
    "papermill": {
     "duration": 0.042562,
     "end_time": "2021-02-07T10:29:28.308508",
     "exception": false,
     "start_time": "2021-02-07T10:29:28.265946",
     "status": "completed"
    },
    "tags": []
   },
   "outputs": [
    {
     "data": {
      "text/plain": [
       "array([[590,  48],\n",
       "       [ 42, 587]], dtype=int64)"
      ]
     },
     "execution_count": 10,
     "metadata": {},
     "output_type": "execute_result"
    }
   ],
   "source": [
    "#DataFlair - Build confusion matrix\n",
    "confusion_matrix(y_test,y_pred, labels=['FAKE','REAL'])"
   ]
  },
  {
   "cell_type": "code",
   "execution_count": null,
   "metadata": {},
   "outputs": [],
   "source": []
  }
 ],
 "metadata": {
  "kernelspec": {
   "display_name": "Python 3 (ipykernel)",
   "language": "python",
   "name": "python3"
  },
  "language_info": {
   "codemirror_mode": {
    "name": "ipython",
    "version": 3
   },
   "file_extension": ".py",
   "mimetype": "text/x-python",
   "name": "python",
   "nbconvert_exporter": "python",
   "pygments_lexer": "ipython3",
   "version": "3.9.13"
  },
  "papermill": {
   "default_parameters": {},
   "duration": 15.051063,
   "end_time": "2021-02-07T10:29:29.018708",
   "environment_variables": {},
   "exception": null,
   "input_path": "__notebook__.ipynb",
   "output_path": "__notebook__.ipynb",
   "parameters": {},
   "start_time": "2021-02-07T10:29:13.967645",
   "version": "2.2.2"
  }
 },
 "nbformat": 4,
 "nbformat_minor": 4
}
